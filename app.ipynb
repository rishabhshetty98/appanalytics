{
 "nbformat": 4,
 "nbformat_minor": 2,
 "metadata": {
  "language_info": {
   "name": "python",
   "codemirror_mode": {
    "name": "ipython",
    "version": 3
   },
   "version": "3.7.4-final"
  },
  "orig_nbformat": 2,
  "file_extension": ".py",
  "mimetype": "text/x-python",
  "name": "python",
  "npconvert_exporter": "python",
  "pygments_lexer": "ipython3",
  "version": 3,
  "kernelspec": {
   "name": "python37464bitchillvirtualenv553aba38420c415ea94ee18a37de6342",
   "display_name": "Python 3.7.4 64-bit ('chill': virtualenv)"
  }
 },
 "cells": [
  {
   "cell_type": "code",
   "execution_count": 122,
   "metadata": {},
   "outputs": [],
   "source": [
    "import numpy as np\n",
    "import pandas as pd\n",
    "from sklearn.preprocessing import OneHotEncoder\n",
    "import matplotlib.pyplot as plt\n"
   ]
  },
  {
   "cell_type": "code",
   "execution_count": 123,
   "metadata": {},
   "outputs": [],
   "source": [
    "df = pd.read_csv(\"googleplaystore.csv\")"
   ]
  },
  {
   "cell_type": "code",
   "execution_count": 124,
   "metadata": {},
   "outputs": [
    {
     "data": {
      "text/html": "<div>\n<style scoped>\n    .dataframe tbody tr th:only-of-type {\n        vertical-align: middle;\n    }\n\n    .dataframe tbody tr th {\n        vertical-align: top;\n    }\n\n    .dataframe thead th {\n        text-align: right;\n    }\n</style>\n<table border=\"1\" class=\"dataframe\">\n  <thead>\n    <tr style=\"text-align: right;\">\n      <th></th>\n      <th>App</th>\n      <th>Category</th>\n      <th>Rating</th>\n      <th>Reviews</th>\n      <th>Size</th>\n      <th>Installs</th>\n      <th>Type</th>\n      <th>Price</th>\n      <th>Content Rating</th>\n      <th>Genres</th>\n      <th>Last Updated</th>\n      <th>Current Ver</th>\n      <th>Android Ver</th>\n    </tr>\n  </thead>\n  <tbody>\n    <tr>\n      <td>0</td>\n      <td>Photo Editor &amp; Candy Camera &amp; Grid &amp; ScrapBook</td>\n      <td>ART_AND_DESIGN</td>\n      <td>4.1</td>\n      <td>159</td>\n      <td>19M</td>\n      <td>10,000+</td>\n      <td>Free</td>\n      <td>0</td>\n      <td>Everyone</td>\n      <td>Art &amp; Design</td>\n      <td>January 7, 2018</td>\n      <td>1.0.0</td>\n      <td>4.0.3 and up</td>\n    </tr>\n    <tr>\n      <td>1</td>\n      <td>Coloring book moana</td>\n      <td>ART_AND_DESIGN</td>\n      <td>3.9</td>\n      <td>967</td>\n      <td>14M</td>\n      <td>500,000+</td>\n      <td>Free</td>\n      <td>0</td>\n      <td>Everyone</td>\n      <td>Art &amp; Design;Pretend Play</td>\n      <td>January 15, 2018</td>\n      <td>2.0.0</td>\n      <td>4.0.3 and up</td>\n    </tr>\n    <tr>\n      <td>2</td>\n      <td>U Launcher Lite – FREE Live Cool Themes, Hide ...</td>\n      <td>ART_AND_DESIGN</td>\n      <td>4.7</td>\n      <td>87510</td>\n      <td>8.7M</td>\n      <td>5,000,000+</td>\n      <td>Free</td>\n      <td>0</td>\n      <td>Everyone</td>\n      <td>Art &amp; Design</td>\n      <td>August 1, 2018</td>\n      <td>1.2.4</td>\n      <td>4.0.3 and up</td>\n    </tr>\n    <tr>\n      <td>3</td>\n      <td>Sketch - Draw &amp; Paint</td>\n      <td>ART_AND_DESIGN</td>\n      <td>4.5</td>\n      <td>215644</td>\n      <td>25M</td>\n      <td>50,000,000+</td>\n      <td>Free</td>\n      <td>0</td>\n      <td>Teen</td>\n      <td>Art &amp; Design</td>\n      <td>June 8, 2018</td>\n      <td>Varies with device</td>\n      <td>4.2 and up</td>\n    </tr>\n    <tr>\n      <td>4</td>\n      <td>Pixel Draw - Number Art Coloring Book</td>\n      <td>ART_AND_DESIGN</td>\n      <td>4.3</td>\n      <td>967</td>\n      <td>2.8M</td>\n      <td>100,000+</td>\n      <td>Free</td>\n      <td>0</td>\n      <td>Everyone</td>\n      <td>Art &amp; Design;Creativity</td>\n      <td>June 20, 2018</td>\n      <td>1.1</td>\n      <td>4.4 and up</td>\n    </tr>\n  </tbody>\n</table>\n</div>",
      "text/plain": "                                                 App        Category  Rating  \\\n0     Photo Editor & Candy Camera & Grid & ScrapBook  ART_AND_DESIGN     4.1   \n1                                Coloring book moana  ART_AND_DESIGN     3.9   \n2  U Launcher Lite – FREE Live Cool Themes, Hide ...  ART_AND_DESIGN     4.7   \n3                              Sketch - Draw & Paint  ART_AND_DESIGN     4.5   \n4              Pixel Draw - Number Art Coloring Book  ART_AND_DESIGN     4.3   \n\n  Reviews  Size     Installs  Type Price Content Rating  \\\n0     159   19M      10,000+  Free     0       Everyone   \n1     967   14M     500,000+  Free     0       Everyone   \n2   87510  8.7M   5,000,000+  Free     0       Everyone   \n3  215644   25M  50,000,000+  Free     0           Teen   \n4     967  2.8M     100,000+  Free     0       Everyone   \n\n                      Genres      Last Updated         Current Ver  \\\n0               Art & Design   January 7, 2018               1.0.0   \n1  Art & Design;Pretend Play  January 15, 2018               2.0.0   \n2               Art & Design    August 1, 2018               1.2.4   \n3               Art & Design      June 8, 2018  Varies with device   \n4    Art & Design;Creativity     June 20, 2018                 1.1   \n\n    Android Ver  \n0  4.0.3 and up  \n1  4.0.3 and up  \n2  4.0.3 and up  \n3    4.2 and up  \n4    4.4 and up  "
     },
     "execution_count": 124,
     "metadata": {},
     "output_type": "execute_result"
    }
   ],
   "source": [
    "df.head()"
   ]
  },
  {
   "cell_type": "code",
   "execution_count": 125,
   "metadata": {},
   "outputs": [],
   "source": [
    "to_drop = [\"Type\",\"Genres\"]\n",
    "df.drop(to_drop, inplace=True, axis=1)\n",
    "df.drop([10472], inplace=True, axis=0)"
   ]
  },
  {
   "cell_type": "code",
   "execution_count": 126,
   "metadata": {},
   "outputs": [
    {
     "data": {
      "text/html": "<div>\n<style scoped>\n    .dataframe tbody tr th:only-of-type {\n        vertical-align: middle;\n    }\n\n    .dataframe tbody tr th {\n        vertical-align: top;\n    }\n\n    .dataframe thead th {\n        text-align: right;\n    }\n</style>\n<table border=\"1\" class=\"dataframe\">\n  <thead>\n    <tr style=\"text-align: right;\">\n      <th></th>\n      <th>App</th>\n      <th>Category</th>\n      <th>Rating</th>\n      <th>Reviews</th>\n      <th>Size</th>\n      <th>Installs</th>\n      <th>Price</th>\n      <th>Content Rating</th>\n      <th>Last Updated</th>\n      <th>Current Ver</th>\n      <th>Android Ver</th>\n    </tr>\n  </thead>\n  <tbody>\n    <tr>\n      <td>0</td>\n      <td>Photo Editor &amp; Candy Camera &amp; Grid &amp; ScrapBook</td>\n      <td>ART_AND_DESIGN</td>\n      <td>4.1</td>\n      <td>159</td>\n      <td>19M</td>\n      <td>10,000+</td>\n      <td>0</td>\n      <td>Everyone</td>\n      <td>January 7, 2018</td>\n      <td>1.0.0</td>\n      <td>4.0.3 and up</td>\n    </tr>\n    <tr>\n      <td>1</td>\n      <td>Coloring book moana</td>\n      <td>ART_AND_DESIGN</td>\n      <td>3.9</td>\n      <td>967</td>\n      <td>14M</td>\n      <td>500,000+</td>\n      <td>0</td>\n      <td>Everyone</td>\n      <td>January 15, 2018</td>\n      <td>2.0.0</td>\n      <td>4.0.3 and up</td>\n    </tr>\n    <tr>\n      <td>2</td>\n      <td>U Launcher Lite – FREE Live Cool Themes, Hide ...</td>\n      <td>ART_AND_DESIGN</td>\n      <td>4.7</td>\n      <td>87510</td>\n      <td>8.7M</td>\n      <td>5,000,000+</td>\n      <td>0</td>\n      <td>Everyone</td>\n      <td>August 1, 2018</td>\n      <td>1.2.4</td>\n      <td>4.0.3 and up</td>\n    </tr>\n    <tr>\n      <td>3</td>\n      <td>Sketch - Draw &amp; Paint</td>\n      <td>ART_AND_DESIGN</td>\n      <td>4.5</td>\n      <td>215644</td>\n      <td>25M</td>\n      <td>50,000,000+</td>\n      <td>0</td>\n      <td>Teen</td>\n      <td>June 8, 2018</td>\n      <td>Varies with device</td>\n      <td>4.2 and up</td>\n    </tr>\n    <tr>\n      <td>4</td>\n      <td>Pixel Draw - Number Art Coloring Book</td>\n      <td>ART_AND_DESIGN</td>\n      <td>4.3</td>\n      <td>967</td>\n      <td>2.8M</td>\n      <td>100,000+</td>\n      <td>0</td>\n      <td>Everyone</td>\n      <td>June 20, 2018</td>\n      <td>1.1</td>\n      <td>4.4 and up</td>\n    </tr>\n  </tbody>\n</table>\n</div>",
      "text/plain": "                                                 App        Category  Rating  \\\n0     Photo Editor & Candy Camera & Grid & ScrapBook  ART_AND_DESIGN     4.1   \n1                                Coloring book moana  ART_AND_DESIGN     3.9   \n2  U Launcher Lite – FREE Live Cool Themes, Hide ...  ART_AND_DESIGN     4.7   \n3                              Sketch - Draw & Paint  ART_AND_DESIGN     4.5   \n4              Pixel Draw - Number Art Coloring Book  ART_AND_DESIGN     4.3   \n\n  Reviews  Size     Installs Price Content Rating      Last Updated  \\\n0     159   19M      10,000+     0       Everyone   January 7, 2018   \n1     967   14M     500,000+     0       Everyone  January 15, 2018   \n2   87510  8.7M   5,000,000+     0       Everyone    August 1, 2018   \n3  215644   25M  50,000,000+     0           Teen      June 8, 2018   \n4     967  2.8M     100,000+     0       Everyone     June 20, 2018   \n\n          Current Ver   Android Ver  \n0               1.0.0  4.0.3 and up  \n1               2.0.0  4.0.3 and up  \n2               1.2.4  4.0.3 and up  \n3  Varies with device    4.2 and up  \n4                 1.1    4.4 and up  "
     },
     "execution_count": 126,
     "metadata": {},
     "output_type": "execute_result"
    }
   ],
   "source": [
    "df.head()"
   ]
  },
  {
   "cell_type": "code",
   "execution_count": 127,
   "metadata": {},
   "outputs": [
    {
     "data": {
      "text/plain": "Int32Dtype()"
     },
     "execution_count": 127,
     "metadata": {},
     "output_type": "execute_result"
    }
   ],
   "source": [
    "df[['Installs']] = df['Installs'].str.rstrip('+')\n",
    "df[['Installs']] = df['Installs'].str.replace(',',\"\")\n",
    "df[['Size']] = df['Size'].str.rstrip('M')\n",
    "df['Installs'] = pd.to_numeric(df['Installs']).astype('Int32')\n",
    "df['Installs'].dtype"
   ]
  },
  {
   "cell_type": "code",
   "execution_count": 128,
   "metadata": {},
   "outputs": [
    {
     "data": {
      "text/html": "<div>\n<style scoped>\n    .dataframe tbody tr th:only-of-type {\n        vertical-align: middle;\n    }\n\n    .dataframe tbody tr th {\n        vertical-align: top;\n    }\n\n    .dataframe thead th {\n        text-align: right;\n    }\n</style>\n<table border=\"1\" class=\"dataframe\">\n  <thead>\n    <tr style=\"text-align: right;\">\n      <th></th>\n      <th>App</th>\n      <th>Category</th>\n      <th>Rating</th>\n      <th>Reviews</th>\n      <th>Size</th>\n      <th>Installs</th>\n      <th>Price</th>\n      <th>Content Rating</th>\n      <th>Last Updated</th>\n      <th>Current Ver</th>\n      <th>Android Ver</th>\n    </tr>\n  </thead>\n  <tbody>\n    <tr>\n      <td>0</td>\n      <td>Photo Editor &amp; Candy Camera &amp; Grid &amp; ScrapBook</td>\n      <td>ART_AND_DESIGN</td>\n      <td>4.1</td>\n      <td>159</td>\n      <td>19</td>\n      <td>10000</td>\n      <td>0</td>\n      <td>Everyone</td>\n      <td>January 7, 2018</td>\n      <td>1.0.0</td>\n      <td>4.0.3 and up</td>\n    </tr>\n    <tr>\n      <td>1</td>\n      <td>Coloring book moana</td>\n      <td>ART_AND_DESIGN</td>\n      <td>3.9</td>\n      <td>967</td>\n      <td>14</td>\n      <td>500000</td>\n      <td>0</td>\n      <td>Everyone</td>\n      <td>January 15, 2018</td>\n      <td>2.0.0</td>\n      <td>4.0.3 and up</td>\n    </tr>\n    <tr>\n      <td>2</td>\n      <td>U Launcher Lite – FREE Live Cool Themes, Hide ...</td>\n      <td>ART_AND_DESIGN</td>\n      <td>4.7</td>\n      <td>87510</td>\n      <td>8.7</td>\n      <td>5000000</td>\n      <td>0</td>\n      <td>Everyone</td>\n      <td>August 1, 2018</td>\n      <td>1.2.4</td>\n      <td>4.0.3 and up</td>\n    </tr>\n    <tr>\n      <td>3</td>\n      <td>Sketch - Draw &amp; Paint</td>\n      <td>ART_AND_DESIGN</td>\n      <td>4.5</td>\n      <td>215644</td>\n      <td>25</td>\n      <td>50000000</td>\n      <td>0</td>\n      <td>Teen</td>\n      <td>June 8, 2018</td>\n      <td>Varies with device</td>\n      <td>4.2 and up</td>\n    </tr>\n    <tr>\n      <td>4</td>\n      <td>Pixel Draw - Number Art Coloring Book</td>\n      <td>ART_AND_DESIGN</td>\n      <td>4.3</td>\n      <td>967</td>\n      <td>2.8</td>\n      <td>100000</td>\n      <td>0</td>\n      <td>Everyone</td>\n      <td>June 20, 2018</td>\n      <td>1.1</td>\n      <td>4.4 and up</td>\n    </tr>\n  </tbody>\n</table>\n</div>",
      "text/plain": "                                                 App        Category  Rating  \\\n0     Photo Editor & Candy Camera & Grid & ScrapBook  ART_AND_DESIGN     4.1   \n1                                Coloring book moana  ART_AND_DESIGN     3.9   \n2  U Launcher Lite – FREE Live Cool Themes, Hide ...  ART_AND_DESIGN     4.7   \n3                              Sketch - Draw & Paint  ART_AND_DESIGN     4.5   \n4              Pixel Draw - Number Art Coloring Book  ART_AND_DESIGN     4.3   \n\n  Reviews Size  Installs Price Content Rating      Last Updated  \\\n0     159   19     10000     0       Everyone   January 7, 2018   \n1     967   14    500000     0       Everyone  January 15, 2018   \n2   87510  8.7   5000000     0       Everyone    August 1, 2018   \n3  215644   25  50000000     0           Teen      June 8, 2018   \n4     967  2.8    100000     0       Everyone     June 20, 2018   \n\n          Current Ver   Android Ver  \n0               1.0.0  4.0.3 and up  \n1               2.0.0  4.0.3 and up  \n2               1.2.4  4.0.3 and up  \n3  Varies with device    4.2 and up  \n4                 1.1    4.4 and up  "
     },
     "execution_count": 128,
     "metadata": {},
     "output_type": "execute_result"
    }
   ],
   "source": [
    "df.head()"
   ]
  },
  {
   "cell_type": "code",
   "execution_count": 136,
   "metadata": {},
   "outputs": [],
   "source": [
    "x1 = []\n",
    "for i in df['Category'].unique():\n",
    "    x1.append(i)\n",
    "    \n",
    "\n",
    "y = []\n",
    "y = df.groupby(df['Category']).agg({'Installs':'sum'})\n",
    "\n",
    "\n"
   ]
  },
  {
   "cell_type": "code",
   "execution_count": null,
   "metadata": {},
   "outputs": [],
   "source": [
    "#category  v installs\n",
    "\n",
    "df[[\"Category\"]].value_counts().plot(kind='barh', figsize)"
   ]
  }
 ]
}